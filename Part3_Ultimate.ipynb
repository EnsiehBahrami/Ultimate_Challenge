{
 "cells": [
  {
   "cell_type": "markdown",
   "metadata": {},
   "source": [
    "### Data description\n",
    "● city: city this user signed up in\n",
    "\n",
    "● phone: primary device for this user\n",
    "\n",
    "● signup_date: date of account registration; in the form ‘YYYYMMDD’\n",
    "\n",
    "● last_trip_date: the last time this user completed a trip; in the form ‘YYYYMMDD’\n",
    "\n",
    "● avg_dist: the average distance in miles per trip taken in the first 30 days after signup\n",
    "\n",
    "● avg_rating_by_driver: the rider’s average rating over all of their trips\n",
    "\n",
    "● avg_rating_of_driver: the rider’s average rating of their drivers over all of their trips\n",
    "\n",
    "● surge_pct: the percent of trips taken with surge multiplier > 1\n",
    "\n",
    "● avg_surge: The average surge multiplier over all of this user’s trips\n",
    "\n",
    "● trips_in_first_30_days: the number of trips this user took in the first 30 days after signing up\n",
    " \n",
    "● ultimate_black_user: TRUE if the user took an Ultimate Black in their first 30 days; FALSE otherwise\n",
    "\n",
    "● weekday_pct: the percent of the user’s trips occurring during a weekday"
   ]
  },
  {
   "cell_type": "code",
   "execution_count": 1,
   "metadata": {},
   "outputs": [],
   "source": [
    "import pandas as pd\n",
    "import numpy as np\n",
    "import matplotlib.pyplot as plt\n",
    "\n",
    "import warnings\n",
    "warnings.filterwarnings(\"ignore\") # specify to ignore warning messages"
   ]
  },
  {
   "cell_type": "code",
   "execution_count": 2,
   "metadata": {},
   "outputs": [
    {
     "name": "stdout",
     "output_type": "stream",
     "text": [
      "(50000, 12)\n"
     ]
    },
    {
     "data": {
      "text/html": [
       "<div>\n",
       "<style scoped>\n",
       "    .dataframe tbody tr th:only-of-type {\n",
       "        vertical-align: middle;\n",
       "    }\n",
       "\n",
       "    .dataframe tbody tr th {\n",
       "        vertical-align: top;\n",
       "    }\n",
       "\n",
       "    .dataframe thead th {\n",
       "        text-align: right;\n",
       "    }\n",
       "</style>\n",
       "<table border=\"1\" class=\"dataframe\">\n",
       "  <thead>\n",
       "    <tr style=\"text-align: right;\">\n",
       "      <th></th>\n",
       "      <th>city</th>\n",
       "      <th>trips_in_first_30_days</th>\n",
       "      <th>signup_date</th>\n",
       "      <th>avg_rating_of_driver</th>\n",
       "      <th>avg_surge</th>\n",
       "      <th>last_trip_date</th>\n",
       "      <th>phone</th>\n",
       "      <th>surge_pct</th>\n",
       "      <th>ultimate_black_user</th>\n",
       "      <th>weekday_pct</th>\n",
       "      <th>avg_dist</th>\n",
       "      <th>avg_rating_by_driver</th>\n",
       "    </tr>\n",
       "  </thead>\n",
       "  <tbody>\n",
       "    <tr>\n",
       "      <th>0</th>\n",
       "      <td>King's Landing</td>\n",
       "      <td>4</td>\n",
       "      <td>2014-01-25</td>\n",
       "      <td>4.7</td>\n",
       "      <td>1.10</td>\n",
       "      <td>2014-06-17</td>\n",
       "      <td>iPhone</td>\n",
       "      <td>15.4</td>\n",
       "      <td>True</td>\n",
       "      <td>46.2</td>\n",
       "      <td>3.67</td>\n",
       "      <td>5.0</td>\n",
       "    </tr>\n",
       "    <tr>\n",
       "      <th>1</th>\n",
       "      <td>Astapor</td>\n",
       "      <td>0</td>\n",
       "      <td>2014-01-29</td>\n",
       "      <td>5.0</td>\n",
       "      <td>1.00</td>\n",
       "      <td>2014-05-05</td>\n",
       "      <td>Android</td>\n",
       "      <td>0.0</td>\n",
       "      <td>False</td>\n",
       "      <td>50.0</td>\n",
       "      <td>8.26</td>\n",
       "      <td>5.0</td>\n",
       "    </tr>\n",
       "    <tr>\n",
       "      <th>2</th>\n",
       "      <td>Astapor</td>\n",
       "      <td>3</td>\n",
       "      <td>2014-01-06</td>\n",
       "      <td>4.3</td>\n",
       "      <td>1.00</td>\n",
       "      <td>2014-01-07</td>\n",
       "      <td>iPhone</td>\n",
       "      <td>0.0</td>\n",
       "      <td>False</td>\n",
       "      <td>100.0</td>\n",
       "      <td>0.77</td>\n",
       "      <td>5.0</td>\n",
       "    </tr>\n",
       "    <tr>\n",
       "      <th>3</th>\n",
       "      <td>King's Landing</td>\n",
       "      <td>9</td>\n",
       "      <td>2014-01-10</td>\n",
       "      <td>4.6</td>\n",
       "      <td>1.14</td>\n",
       "      <td>2014-06-29</td>\n",
       "      <td>iPhone</td>\n",
       "      <td>20.0</td>\n",
       "      <td>True</td>\n",
       "      <td>80.0</td>\n",
       "      <td>2.36</td>\n",
       "      <td>4.9</td>\n",
       "    </tr>\n",
       "    <tr>\n",
       "      <th>4</th>\n",
       "      <td>Winterfell</td>\n",
       "      <td>14</td>\n",
       "      <td>2014-01-27</td>\n",
       "      <td>4.4</td>\n",
       "      <td>1.19</td>\n",
       "      <td>2014-03-15</td>\n",
       "      <td>Android</td>\n",
       "      <td>11.8</td>\n",
       "      <td>False</td>\n",
       "      <td>82.4</td>\n",
       "      <td>3.13</td>\n",
       "      <td>4.9</td>\n",
       "    </tr>\n",
       "  </tbody>\n",
       "</table>\n",
       "</div>"
      ],
      "text/plain": [
       "             city  trips_in_first_30_days signup_date  avg_rating_of_driver  \\\n",
       "0  King's Landing                       4  2014-01-25                   4.7   \n",
       "1         Astapor                       0  2014-01-29                   5.0   \n",
       "2         Astapor                       3  2014-01-06                   4.3   \n",
       "3  King's Landing                       9  2014-01-10                   4.6   \n",
       "4      Winterfell                      14  2014-01-27                   4.4   \n",
       "\n",
       "   avg_surge last_trip_date    phone  surge_pct  ultimate_black_user  \\\n",
       "0       1.10     2014-06-17   iPhone       15.4                 True   \n",
       "1       1.00     2014-05-05  Android        0.0                False   \n",
       "2       1.00     2014-01-07   iPhone        0.0                False   \n",
       "3       1.14     2014-06-29   iPhone       20.0                 True   \n",
       "4       1.19     2014-03-15  Android       11.8                False   \n",
       "\n",
       "   weekday_pct  avg_dist  avg_rating_by_driver  \n",
       "0         46.2      3.67                   5.0  \n",
       "1         50.0      8.26                   5.0  \n",
       "2        100.0      0.77                   5.0  \n",
       "3         80.0      2.36                   4.9  \n",
       "4         82.4      3.13                   4.9  "
      ]
     },
     "execution_count": 2,
     "metadata": {},
     "output_type": "execute_result"
    }
   ],
   "source": [
    "dic = pd.read_json('ultimate_data_challenge.json')\n",
    "df = pd.DataFrame.from_dict(dic, orient= 'columns')\n",
    "print(df.shape)\n",
    "df.head()"
   ]
  },
  {
   "cell_type": "markdown",
   "metadata": {},
   "source": [
    "## Review the dataset"
   ]
  },
  {
   "cell_type": "code",
   "execution_count": 3,
   "metadata": {},
   "outputs": [
    {
     "name": "stdout",
     "output_type": "stream",
     "text": [
      "<class 'pandas.core.frame.DataFrame'>\n",
      "RangeIndex: 50000 entries, 0 to 49999\n",
      "Data columns (total 12 columns):\n",
      " #   Column                  Non-Null Count  Dtype  \n",
      "---  ------                  --------------  -----  \n",
      " 0   city                    50000 non-null  object \n",
      " 1   trips_in_first_30_days  50000 non-null  int64  \n",
      " 2   signup_date             50000 non-null  object \n",
      " 3   avg_rating_of_driver    41878 non-null  float64\n",
      " 4   avg_surge               50000 non-null  float64\n",
      " 5   last_trip_date          50000 non-null  object \n",
      " 6   phone                   49604 non-null  object \n",
      " 7   surge_pct               50000 non-null  float64\n",
      " 8   ultimate_black_user     50000 non-null  bool   \n",
      " 9   weekday_pct             50000 non-null  float64\n",
      " 10  avg_dist                50000 non-null  float64\n",
      " 11  avg_rating_by_driver    49799 non-null  float64\n",
      "dtypes: bool(1), float64(6), int64(1), object(4)\n",
      "memory usage: 4.2+ MB\n"
     ]
    }
   ],
   "source": [
    "#see a summary of data\n",
    "df.info()"
   ]
  },
  {
   "cell_type": "code",
   "execution_count": 4,
   "metadata": {},
   "outputs": [
    {
     "data": {
      "text/html": [
       "<div>\n",
       "<style scoped>\n",
       "    .dataframe tbody tr th:only-of-type {\n",
       "        vertical-align: middle;\n",
       "    }\n",
       "\n",
       "    .dataframe tbody tr th {\n",
       "        vertical-align: top;\n",
       "    }\n",
       "\n",
       "    .dataframe thead th {\n",
       "        text-align: right;\n",
       "    }\n",
       "</style>\n",
       "<table border=\"1\" class=\"dataframe\">\n",
       "  <thead>\n",
       "    <tr style=\"text-align: right;\">\n",
       "      <th></th>\n",
       "      <th>trips_in_first_30_days</th>\n",
       "      <th>avg_rating_of_driver</th>\n",
       "      <th>avg_surge</th>\n",
       "      <th>surge_pct</th>\n",
       "      <th>weekday_pct</th>\n",
       "      <th>avg_dist</th>\n",
       "      <th>avg_rating_by_driver</th>\n",
       "    </tr>\n",
       "  </thead>\n",
       "  <tbody>\n",
       "    <tr>\n",
       "      <th>count</th>\n",
       "      <td>50000.000000</td>\n",
       "      <td>41878.000000</td>\n",
       "      <td>50000.000000</td>\n",
       "      <td>50000.000000</td>\n",
       "      <td>50000.000000</td>\n",
       "      <td>50000.000000</td>\n",
       "      <td>49799.000000</td>\n",
       "    </tr>\n",
       "    <tr>\n",
       "      <th>mean</th>\n",
       "      <td>2.278200</td>\n",
       "      <td>4.601559</td>\n",
       "      <td>1.074764</td>\n",
       "      <td>8.849536</td>\n",
       "      <td>60.926084</td>\n",
       "      <td>5.796827</td>\n",
       "      <td>4.778158</td>\n",
       "    </tr>\n",
       "    <tr>\n",
       "      <th>std</th>\n",
       "      <td>3.792684</td>\n",
       "      <td>0.617338</td>\n",
       "      <td>0.222336</td>\n",
       "      <td>19.958811</td>\n",
       "      <td>37.081503</td>\n",
       "      <td>5.707357</td>\n",
       "      <td>0.446652</td>\n",
       "    </tr>\n",
       "    <tr>\n",
       "      <th>min</th>\n",
       "      <td>0.000000</td>\n",
       "      <td>1.000000</td>\n",
       "      <td>1.000000</td>\n",
       "      <td>0.000000</td>\n",
       "      <td>0.000000</td>\n",
       "      <td>0.000000</td>\n",
       "      <td>1.000000</td>\n",
       "    </tr>\n",
       "    <tr>\n",
       "      <th>25%</th>\n",
       "      <td>0.000000</td>\n",
       "      <td>4.300000</td>\n",
       "      <td>1.000000</td>\n",
       "      <td>0.000000</td>\n",
       "      <td>33.300000</td>\n",
       "      <td>2.420000</td>\n",
       "      <td>4.700000</td>\n",
       "    </tr>\n",
       "    <tr>\n",
       "      <th>50%</th>\n",
       "      <td>1.000000</td>\n",
       "      <td>4.900000</td>\n",
       "      <td>1.000000</td>\n",
       "      <td>0.000000</td>\n",
       "      <td>66.700000</td>\n",
       "      <td>3.880000</td>\n",
       "      <td>5.000000</td>\n",
       "    </tr>\n",
       "    <tr>\n",
       "      <th>75%</th>\n",
       "      <td>3.000000</td>\n",
       "      <td>5.000000</td>\n",
       "      <td>1.050000</td>\n",
       "      <td>8.600000</td>\n",
       "      <td>100.000000</td>\n",
       "      <td>6.940000</td>\n",
       "      <td>5.000000</td>\n",
       "    </tr>\n",
       "    <tr>\n",
       "      <th>max</th>\n",
       "      <td>125.000000</td>\n",
       "      <td>5.000000</td>\n",
       "      <td>8.000000</td>\n",
       "      <td>100.000000</td>\n",
       "      <td>100.000000</td>\n",
       "      <td>160.960000</td>\n",
       "      <td>5.000000</td>\n",
       "    </tr>\n",
       "  </tbody>\n",
       "</table>\n",
       "</div>"
      ],
      "text/plain": [
       "       trips_in_first_30_days  avg_rating_of_driver     avg_surge  \\\n",
       "count            50000.000000          41878.000000  50000.000000   \n",
       "mean                 2.278200              4.601559      1.074764   \n",
       "std                  3.792684              0.617338      0.222336   \n",
       "min                  0.000000              1.000000      1.000000   \n",
       "25%                  0.000000              4.300000      1.000000   \n",
       "50%                  1.000000              4.900000      1.000000   \n",
       "75%                  3.000000              5.000000      1.050000   \n",
       "max                125.000000              5.000000      8.000000   \n",
       "\n",
       "          surge_pct   weekday_pct      avg_dist  avg_rating_by_driver  \n",
       "count  50000.000000  50000.000000  50000.000000          49799.000000  \n",
       "mean       8.849536     60.926084      5.796827              4.778158  \n",
       "std       19.958811     37.081503      5.707357              0.446652  \n",
       "min        0.000000      0.000000      0.000000              1.000000  \n",
       "25%        0.000000     33.300000      2.420000              4.700000  \n",
       "50%        0.000000     66.700000      3.880000              5.000000  \n",
       "75%        8.600000    100.000000      6.940000              5.000000  \n",
       "max      100.000000    100.000000    160.960000              5.000000  "
      ]
     },
     "execution_count": 4,
     "metadata": {},
     "output_type": "execute_result"
    }
   ],
   "source": [
    "df.describe()"
   ]
  },
  {
   "cell_type": "code",
   "execution_count": 5,
   "metadata": {},
   "outputs": [],
   "source": [
    "import pandas_profiling\n",
    "\n",
    "#Create profiling report\n",
    "report = df.profile_report(sort='None', html={'style':{'full_width': True}}, progress_bar=False)\n",
    "\n",
    "#Save report to file\n",
    "report.to_file(output_file= \"usage_report.html\")"
   ]
  },
  {
   "cell_type": "markdown",
   "metadata": {},
   "source": [
    "### Findings from profiling report:\n",
    "* #### There are 8 duplicate rows,\n",
    "* #### users signed up from 3 different cities,\n",
    "* #### There are 8719 missing cells, while 8112 of missing cells are in avg_rating_of_driver column,\n",
    "* #### Distribution of avg_rating_of_driver is a right-skewed,\n",
    "* #### avg_surge has a left-skewed distribution (mean and median at left),\n",
    "* #### Most of last_trip_date were on Jun-29, then on Jun-28 and Jun-29 respectively,\n",
    "* #### More than 2 out of 3 users used iPhone,\n",
    "* #### surge_pct distribution is quite left-skewed distribution, mostly with zero value,\n",
    "* #### Less than 50% of users took Ultimate Black,\n",
    "* #### Majority of users tripped only during the weekday(Mon-Fri) or only on weekend,\n",
    "* #### avg_dist has a quite left-skewed distribution, majority less than 25 miles,\n",
    "* #### avg_rating_by_driver has a right-skewed distribution with 201 missing values,\n",
    "* #### surge_pct and avg_surge are highly positively correlated.\n"
   ]
  },
  {
   "cell_type": "code",
   "execution_count": 6,
   "metadata": {},
   "outputs": [
    {
     "data": {
      "text/plain": [
       "(49992, 12)"
      ]
     },
     "execution_count": 6,
     "metadata": {},
     "output_type": "execute_result"
    }
   ],
   "source": [
    "df = df.drop_duplicates()\n",
    "df.shape"
   ]
  },
  {
   "cell_type": "markdown",
   "metadata": {},
   "source": [
    "## Filling missing values"
   ]
  },
  {
   "cell_type": "markdown",
   "metadata": {},
   "source": [
    "* ### phone"
   ]
  },
  {
   "cell_type": "code",
   "execution_count": 7,
   "metadata": {},
   "outputs": [
    {
     "data": {
      "text/plain": [
       "iPhone     0.692\n",
       "Android    0.300\n",
       "NaN        0.008\n",
       "Name: phone, dtype: float64"
      ]
     },
     "execution_count": 7,
     "metadata": {},
     "output_type": "execute_result"
    }
   ],
   "source": [
    "round(df.phone.value_counts(normalize= True, dropna= False),3)"
   ]
  },
  {
   "cell_type": "markdown",
   "metadata": {},
   "source": [
    "**69% of users' device is iPhone. Let's fill missing values (less than 0.1%) with iPhone.**"
   ]
  },
  {
   "cell_type": "code",
   "execution_count": 8,
   "metadata": {},
   "outputs": [
    {
     "data": {
      "text/plain": [
       "0"
      ]
     },
     "execution_count": 8,
     "metadata": {},
     "output_type": "execute_result"
    }
   ],
   "source": [
    "df.phone = df.phone.fillna(value= 'iPhone')\n",
    "df.phone.isna().sum()"
   ]
  },
  {
   "cell_type": "markdown",
   "metadata": {},
   "source": [
    "* ### avg_rating_of_driver"
   ]
  },
  {
   "cell_type": "code",
   "execution_count": 9,
   "metadata": {},
   "outputs": [
    {
     "data": {
      "text/plain": [
       "5.0    0.415\n",
       "NaN    0.162\n",
       "4.0    0.084\n",
       "Name: avg_rating_of_driver, dtype: float64"
      ]
     },
     "execution_count": 9,
     "metadata": {},
     "output_type": "execute_result"
    }
   ],
   "source": [
    "round(df.avg_rating_of_driver.value_counts(normalize= True, dropna= False).head(3),3)"
   ]
  },
  {
   "cell_type": "markdown",
   "metadata": {},
   "source": [
    "**41% of avg rating of drivers is 5, and 33% of avg rating is equal or less than 4. Mean is 4.3 and median 4.9. let's fill the missing values with mean.**"
   ]
  },
  {
   "cell_type": "code",
   "execution_count": 10,
   "metadata": {},
   "outputs": [
    {
     "data": {
      "text/plain": [
       "0"
      ]
     },
     "execution_count": 10,
     "metadata": {},
     "output_type": "execute_result"
    }
   ],
   "source": [
    "df.avg_rating_of_driver.fillna(round(df.avg_rating_of_driver.mean(),2), inplace= True)\n",
    "df.avg_rating_of_driver.isna().sum()"
   ]
  },
  {
   "cell_type": "markdown",
   "metadata": {},
   "source": [
    "* ### avg_rating_by_driver"
   ]
  },
  {
   "cell_type": "code",
   "execution_count": 11,
   "metadata": {},
   "outputs": [
    {
     "data": {
      "text/plain": [
       "5.0    0.570\n",
       "4.8    0.091\n",
       "4.7    0.067\n",
       "4.9    0.062\n",
       "4.5    0.048\n",
       "4.6    0.042\n",
       "4.0    0.038\n",
       "4.3    0.020\n",
       "4.4    0.017\n",
       "3.0    0.012\n",
       "4.2    0.007\n",
       "NaN    0.004\n",
       "Name: avg_rating_by_driver, dtype: float64"
      ]
     },
     "execution_count": 11,
     "metadata": {},
     "output_type": "execute_result"
    }
   ],
   "source": [
    "round(df.avg_rating_by_driver.value_counts(normalize= True, dropna= False).head(12),3)"
   ]
  },
  {
   "cell_type": "code",
   "execution_count": 12,
   "metadata": {},
   "outputs": [
    {
     "data": {
      "text/plain": [
       "0"
      ]
     },
     "execution_count": 12,
     "metadata": {},
     "output_type": "execute_result"
    }
   ],
   "source": [
    "df.avg_rating_by_driver.fillna(round(df.avg_rating_by_driver.mean(),2), inplace= True)\n",
    "df.avg_rating_by_driver.isna().sum()"
   ]
  },
  {
   "cell_type": "code",
   "execution_count": 13,
   "metadata": {},
   "outputs": [
    {
     "data": {
      "text/plain": [
       "city                      0\n",
       "trips_in_first_30_days    0\n",
       "signup_date               0\n",
       "avg_rating_of_driver      0\n",
       "avg_surge                 0\n",
       "last_trip_date            0\n",
       "phone                     0\n",
       "surge_pct                 0\n",
       "ultimate_black_user       0\n",
       "weekday_pct               0\n",
       "avg_dist                  0\n",
       "avg_rating_by_driver      0\n",
       "dtype: int64"
      ]
     },
     "execution_count": 13,
     "metadata": {},
     "output_type": "execute_result"
    }
   ],
   "source": [
    "df.isna().sum()"
   ]
  },
  {
   "cell_type": "markdown",
   "metadata": {},
   "source": [
    "## Exploration"
   ]
  },
  {
   "cell_type": "markdown",
   "metadata": {},
   "source": [
    "* ## Is the dataset balanced?"
   ]
  },
  {
   "cell_type": "code",
   "execution_count": 14,
   "metadata": {},
   "outputs": [],
   "source": [
    "#convert type of date columns from object to datetime\n",
    "df['signup_date'] = df['signup_date'].apply(lambda x : pd.to_datetime(x))\n",
    "df['last_trip_date'] = df['last_trip_date'].apply(lambda x : pd.to_datetime(x))"
   ]
  },
  {
   "cell_type": "code",
   "execution_count": 15,
   "metadata": {},
   "outputs": [
    {
     "data": {
      "text/plain": [
       "(Timestamp('2014-01-01 00:00:00'), Timestamp('2014-01-31 00:00:00'))"
      ]
     },
     "execution_count": 15,
     "metadata": {},
     "output_type": "execute_result"
    }
   ],
   "source": [
    "df.signup_date.min(), df.signup_date.max()"
   ]
  },
  {
   "cell_type": "markdown",
   "metadata": {},
   "source": [
    "**sign up date are between 31 days in Jan 2014 (not a leap year).**"
   ]
  },
  {
   "cell_type": "code",
   "execution_count": 16,
   "metadata": {},
   "outputs": [
    {
     "data": {
      "text/plain": [
       "(Timestamp('2014-01-01 00:00:00'), Timestamp('2014-07-01 00:00:00'))"
      ]
     },
     "execution_count": 16,
     "metadata": {},
     "output_type": "execute_result"
    }
   ],
   "source": [
    "df.last_trip_date.min(), df.last_trip_date.max()"
   ]
  },
  {
   "cell_type": "markdown",
   "metadata": {},
   "source": [
    "**users tripped from Jan firse until July first in 2014.**"
   ]
  },
  {
   "cell_type": "code",
   "execution_count": 17,
   "metadata": {},
   "outputs": [
    {
     "data": {
      "text/html": [
       "<div>\n",
       "<style scoped>\n",
       "    .dataframe tbody tr th:only-of-type {\n",
       "        vertical-align: middle;\n",
       "    }\n",
       "\n",
       "    .dataframe tbody tr th {\n",
       "        vertical-align: top;\n",
       "    }\n",
       "\n",
       "    .dataframe thead th {\n",
       "        text-align: right;\n",
       "    }\n",
       "</style>\n",
       "<table border=\"1\" class=\"dataframe\">\n",
       "  <thead>\n",
       "    <tr style=\"text-align: right;\">\n",
       "      <th></th>\n",
       "      <th>status</th>\n",
       "      <th>percentage</th>\n",
       "    </tr>\n",
       "  </thead>\n",
       "  <tbody>\n",
       "    <tr>\n",
       "      <th>0</th>\n",
       "      <td>Inactive</td>\n",
       "      <td>0.62</td>\n",
       "    </tr>\n",
       "    <tr>\n",
       "      <th>1</th>\n",
       "      <td>Active</td>\n",
       "      <td>0.38</td>\n",
       "    </tr>\n",
       "  </tbody>\n",
       "</table>\n",
       "</div>"
      ],
      "text/plain": [
       "     status  percentage\n",
       "0  Inactive        0.62\n",
       "1    Active        0.38"
      ]
     },
     "execution_count": 17,
     "metadata": {},
     "output_type": "execute_result"
    }
   ],
   "source": [
    "import datetime\n",
    "start_interval = df.last_trip_date.max() - datetime.timedelta(days=30)\n",
    "end_interval = df.last_trip_date.max()\n",
    "\n",
    "df['active'] = ((df.last_trip_date >= start_interval) & (start_interval <= end_interval )).astype(int)\n",
    "active_pct = df['active'].value_counts(normalize= True, dropna= False).round(2)\n",
    "active_pct = pd.DataFrame(active_pct).reset_index()\n",
    "active_pct.columns = ['status','percentage']\n",
    "active_pct.status.replace({0: 'Inactive', 1:'Active'},inplace= True)\n",
    "active_pct"
   ]
  },
  {
   "cell_type": "markdown",
   "metadata": {},
   "source": [
    "### only 38% users were active in the preceding 30 days, which means only 38% of customers retained.\n"
   ]
  },
  {
   "cell_type": "code",
   "execution_count": 18,
   "metadata": {},
   "outputs": [
    {
     "data": {
      "image/png": "[encoded data removed]",
      "text/plain": [
       "<Figure size 432x288 with 1 Axes>"
      ]
     },
     "metadata": {
      "needs_background": "light"
     },
     "output_type": "display_data"
    }
   ],
   "source": [
    "bars = plt.bar(x= active_pct.status, height= active_pct.percentage)\n",
    "for spine in plt.gca().spines.values():\n",
    "    spine.set_visible (False)\n",
    "\n",
    "plt.tick_params (top='off', bottom='off', left=False , right=False, labelleft=False, labelbottom='on')\n",
    "\n",
    "#direct label each bar with Y axis values\n",
    "for bar in bars:\n",
    "    plt.gca().text( bar.get_x() + bar.get_width()/2 , bar.get_height()-0.16,\n",
    "                   bar.get_height().round(2), ha='center', color='yellow', fontsize=14)\n",
    "    \n",
    "    \n",
    "plt.xticks(fontsize=14)    \n",
    "plt.title('Users Segmentation',fontsize=15, c='red')\n",
    "plt.show()"
   ]
  },
  {
   "cell_type": "markdown",
   "metadata": {},
   "source": [
    "### Dataset is imbalance"
   ]
  },
  {
   "cell_type": "code",
   "execution_count": 19,
   "metadata": {},
   "outputs": [
    {
     "data": {
      "text/plain": [
       "Winterfell        0.47\n",
       "Astapor           0.33\n",
       "King's Landing    0.20\n",
       "Name: city, dtype: float64"
      ]
     },
     "execution_count": 19,
     "metadata": {},
     "output_type": "execute_result"
    }
   ],
   "source": [
    "df.city.value_counts(normalize= True, dropna= False).round(2)"
   ]
  },
  {
   "cell_type": "code",
   "execution_count": 20,
   "metadata": {},
   "outputs": [
    {
     "data": {
      "image/png": "[encoded data removed]",
      "text/plain": [
       "<Figure size 1152x360 with 2 Axes>"
      ]
     },
     "metadata": {
      "needs_background": "light"
     },
     "output_type": "display_data"
    }
   ],
   "source": [
    "#active\n",
    "active_first_month = df.loc[df.active == 1, 'trips_in_first_30_days']\n",
    "active_first_month_mean = round(active_first_month.mean(), 2)\n",
    "\n",
    "#inactive\n",
    "inactive_first_month = df.loc[df.active == 0, 'trips_in_first_30_days']\n",
    "inactive_first_month_mean = round(inactive_first_month.mean(), 2)\n",
    "\n",
    "\n",
    "plt.figure(figsize=(16,5))\n",
    "ax1 = plt.subplot2grid((1,2),(0,0))\n",
    "ax2 = plt.subplot2grid((1,2),(0,1))\n",
    "\n",
    "ax1.hist(active_first_month, bins= 30)\n",
    "ax1.axvline(active_first_month_mean, label= 'mean= {}'.format(active_first_month_mean), c='red')\n",
    "ax1.set_title('Distribution of trips for Active Users in First 30-Days', fontsize=15)\n",
    "ax1.set_xlabel('#Trips', fontsize= 13)\n",
    "ax1.set_ylabel('Frequency', fontsize= 13)\n",
    "ax1.legend(fontsize=12)\n",
    "\n",
    "ax2.hist(inactive_first_month, bins= 30)\n",
    "ax2.axvline(inactive_first_month_mean, label= 'mean= {}'.format(inactive_first_month_mean), c='red')\n",
    "ax2.set_title('Distribution of trips for Inactive Users in First 30-Days', fontsize=15)\n",
    "ax2.set_xlabel('#Trips', fontsize= 13)\n",
    "ax2.set_ylabel('Frequency', fontsize= 13)\n",
    "ax2.legend(fontsize=12)\n",
    "\n",
    "plt.show()"
   ]
  },
  {
   "cell_type": "markdown",
   "metadata": {},
   "source": [
    "### Active users had 3 trips on average in the first 30-days, while inactive users had on average 1 trip."
   ]
  },
  {
   "cell_type": "code",
   "execution_count": 21,
   "metadata": {},
   "outputs": [
    {
     "data": {
      "image/png": "[encoded data removed]",
      "text/plain": [
       "<Figure size 1152x360 with 2 Axes>"
      ]
     },
     "metadata": {
      "needs_background": "light"
     },
     "output_type": "display_data"
    }
   ],
   "source": [
    "#inactive\n",
    "inactive_weekday = df.loc[df.active == 0, 'weekday_pct']\n",
    "inactive_weekday_mean = round(inactive_weekday.mean(), 2)\n",
    "\n",
    "#active\n",
    "active_weekday = df.loc[df.active == 1, 'weekday_pct']\n",
    "active_weekday_mean = round(active_weekday.mean(), 2)\n",
    "\n",
    "\n",
    "plt.figure(figsize=(16,5))\n",
    "ax1 = plt.subplot2grid((1,2),(0,0))\n",
    "ax2 = plt.subplot2grid((1,2),(0,1))\n",
    "\n",
    "ax1.hist(active_weekday, bins= 30)\n",
    "ax1.axvline(active_weekday_mean, label= 'mean= {}'.format(active_weekday_mean), c='red')\n",
    "ax1.set_title('Distribution of Weekday Trips for Active Users', fontsize=15)\n",
    "ax1.set_xlabel('% of Weekday Trips', fontsize= 13)\n",
    "ax1.set_ylabel('Frequency', fontsize= 13)\n",
    "ax1.legend(fontsize=12)\n",
    "\n",
    "\n",
    "ax2.hist(inactive_weekday, bins= 30)\n",
    "ax2.axvline(inactive_weekday_mean, label= 'mean= {}'.format(inactive_weekday_mean), c='red')\n",
    "ax2.set_title('Distribution of Weekday Trips for Inactive Users', fontsize=15)\n",
    "ax2.set_xlabel('% of Weekday Trips', fontsize= 13)\n",
    "ax2.set_ylabel('Frequency', fontsize= 13)\n",
    "ax2.legend(fontsize=12)\n",
    "\n",
    "plt.show()"
   ]
  },
  {
   "cell_type": "markdown",
   "metadata": {},
   "source": [
    "* ### Majority of active users took weekday rides,\n",
    "* ### Majority of inactive users took only weekday or weekend rides,\n",
    "* ### Frequency of weekday and weekend rides taken by inactive users are significantly higher than active users,"
   ]
  },
  {
   "cell_type": "code",
   "execution_count": 22,
   "metadata": {},
   "outputs": [
    {
     "data": {
      "text/html": [
       "<div>\n",
       "<style scoped>\n",
       "    .dataframe tbody tr th:only-of-type {\n",
       "        vertical-align: middle;\n",
       "    }\n",
       "\n",
       "    .dataframe tbody tr th {\n",
       "        vertical-align: top;\n",
       "    }\n",
       "\n",
       "    .dataframe thead th {\n",
       "        text-align: right;\n",
       "    }\n",
       "</style>\n",
       "<table border=\"1\" class=\"dataframe\">\n",
       "  <thead>\n",
       "    <tr style=\"text-align: right;\">\n",
       "      <th></th>\n",
       "      <th>#users_Astapor</th>\n",
       "      <th>#users_KingsLanding</th>\n",
       "      <th>#users_Winterfell</th>\n",
       "    </tr>\n",
       "    <tr>\n",
       "      <th>status</th>\n",
       "      <th></th>\n",
       "      <th></th>\n",
       "      <th></th>\n",
       "    </tr>\n",
       "  </thead>\n",
       "  <tbody>\n",
       "    <tr>\n",
       "      <th>Active</th>\n",
       "      <td>4228</td>\n",
       "      <td>6363</td>\n",
       "      <td>8213</td>\n",
       "    </tr>\n",
       "    <tr>\n",
       "      <th>Inactive</th>\n",
       "      <td>12303</td>\n",
       "      <td>3767</td>\n",
       "      <td>15118</td>\n",
       "    </tr>\n",
       "  </tbody>\n",
       "</table>\n",
       "</div>"
      ],
      "text/plain": [
       "          #users_Astapor  #users_KingsLanding  #users_Winterfell\n",
       "status                                                          \n",
       "Active              4228                 6363               8213\n",
       "Inactive           12303                 3767              15118"
      ]
     },
     "execution_count": 22,
     "metadata": {},
     "output_type": "execute_result"
    }
   ],
   "source": [
    "#active\n",
    "users = df.groupby(['active','city'])['city'].count()\n",
    "users = pd.DataFrame(users)\n",
    "users.rename(columns= {'city': '#users'}, inplace= True)\n",
    "users.reset_index(inplace= True)\n",
    "users.rename(columns= {'active': 'status'}, inplace= True)\n",
    "users['status'].replace({0: 'Inactive', 1: 'Active'}, inplace= True)\n",
    "users = pd.pivot_table(users, index= ['status'], columns = ['city'], values= ['#users'])\n",
    "users.columns = ['#users_Astapor', '#users_KingsLanding', '#users_Winterfell']\n",
    "users"
   ]
  },
  {
   "cell_type": "code",
   "execution_count": 23,
   "metadata": {},
   "outputs": [
    {
     "data": {
      "text/html": [
       "<div>\n",
       "<style scoped>\n",
       "    .dataframe tbody tr th:only-of-type {\n",
       "        vertical-align: middle;\n",
       "    }\n",
       "\n",
       "    .dataframe tbody tr th {\n",
       "        vertical-align: top;\n",
       "    }\n",
       "\n",
       "    .dataframe thead th {\n",
       "        text-align: right;\n",
       "    }\n",
       "</style>\n",
       "<table border=\"1\" class=\"dataframe\">\n",
       "  <thead>\n",
       "    <tr style=\"text-align: right;\">\n",
       "      <th>status</th>\n",
       "      <th>Active</th>\n",
       "      <th>Inactive</th>\n",
       "    </tr>\n",
       "  </thead>\n",
       "  <tbody>\n",
       "    <tr>\n",
       "      <th>%users_Astapor</th>\n",
       "      <td>0.08</td>\n",
       "      <td>0.25</td>\n",
       "    </tr>\n",
       "    <tr>\n",
       "      <th>%users_KingsLanding</th>\n",
       "      <td>0.13</td>\n",
       "      <td>0.08</td>\n",
       "    </tr>\n",
       "    <tr>\n",
       "      <th>%users_Winterfell</th>\n",
       "      <td>0.16</td>\n",
       "      <td>0.30</td>\n",
       "    </tr>\n",
       "  </tbody>\n",
       "</table>\n",
       "</div>"
      ],
      "text/plain": [
       "status               Active  Inactive\n",
       "%users_Astapor         0.08      0.25\n",
       "%users_KingsLanding    0.13      0.08\n",
       "%users_Winterfell      0.16      0.30"
      ]
     },
     "execution_count": 23,
     "metadata": {},
     "output_type": "execute_result"
    }
   ],
   "source": [
    "n_inactives = users.loc['Inactive'].sum()\n",
    "n_actives = users.loc['Active'].sum()\n",
    "n = n_inactives + n_actives\n",
    "\n",
    "\n",
    "users.loc['Inactive'] = round(users.loc['Inactive']/n, 2)\n",
    "users.loc['Active'] = round(users.loc['Active']/n, 2)\n",
    "\n",
    "users.columns = ['%users_Astapor', '%users_KingsLanding', '%users_Winterfell']\n",
    "\n",
    "users = users.T\n",
    "users"
   ]
  },
  {
   "cell_type": "code",
   "execution_count": 24,
   "metadata": {},
   "outputs": [
    {
     "data": {
      "image/png": "[encoded data removed]",
      "text/plain": [
       "<Figure size 576x504 with 1 Axes>"
      ]
     },
     "metadata": {
      "needs_background": "light"
     },
     "output_type": "display_data"
    }
   ],
   "source": [
    "import seaborn as sns\n",
    "ax = plt.subplots(figsize=(8,7))\n",
    "ax= sns.barplot(x= users.index, y= users.Active, alpha=0.4, label= 'Active',color= 'b')\n",
    "ax= sns.barplot(x= users.index, y= users.Active + users.Inactive,  alpha=0.4, label= 'Inactive', color='r')\n",
    "\n",
    "plt.ylabel('')\n",
    "plt.legend()\n",
    "plt.show()"
   ]
  },
  {
   "cell_type": "markdown",
   "metadata": {},
   "source": [
    "* ### Winterfell has highest percentage of active and inactive users,\n",
    "* ### Astapor has less than 10% active users,\n",
    "* ### King's Landing has less than 10% inactive users."
   ]
  },
  {
   "cell_type": "code",
   "execution_count": 25,
   "metadata": {},
   "outputs": [
    {
     "data": {
      "image/png": "[encoded data removed]",
      "text/plain": [
       "<Figure size 1224x360 with 2 Axes>"
      ]
     },
     "metadata": {
      "needs_background": "light"
     },
     "output_type": "display_data"
    }
   ],
   "source": [
    "#active\n",
    "active_avg_dist = df.loc[df.active == 1, 'avg_dist']\n",
    "active_avg_dist_mean = round(active_avg_dist.mean(),2)\n",
    "\n",
    "\n",
    "#inactive\n",
    "inactive_avg_dist = df.loc[df.active == 0, 'avg_dist']\n",
    "inactive_avg_dist_mean = round(inactive_avg_dist.mean(),2)\n",
    "\n",
    "\n",
    "plt.figure(figsize=(17,5))\n",
    "ax1 = plt.subplot2grid((1,2),(0,0))\n",
    "ax2 = plt.subplot2grid((1,2),(0,1))\n",
    "\n",
    "ax1.hist(active_avg_dist, bins= 30)\n",
    "ax1.axvline(active_avg_dist_mean, label= 'mean= {}'.format(active_avg_dist_mean), c='red')\n",
    "ax1.set_title('Distribution of Avg Distance for Active Users Trips', fontsize=15)\n",
    "ax1.set_xlabel('Avg Distance(mile)', fontsize= 13)\n",
    "ax1.set_ylabel('Frequency', fontsize= 13)\n",
    "ax1.legend(fontsize=12)\n",
    "\n",
    "\n",
    "ax2.hist(active_avg_dist, bins= 30)\n",
    "ax2.axvline(inactive_avg_dist_mean, label= 'mean= {}'.format(inactive_avg_dist_mean), c='red')\n",
    "ax2.set_title('Distribution of Avg Distance for Inactive Users Trips', fontsize=15)\n",
    "ax2.set_xlabel('Avg Distance(mile)', fontsize= 13)\n",
    "ax2.set_ylabel('Frequency', fontsize= 13)\n",
    "ax2.legend(fontsize=12)\n",
    "\n",
    "plt.show()"
   ]
  },
  {
   "cell_type": "code",
   "execution_count": 26,
   "metadata": {},
   "outputs": [
    {
     "name": "stdout",
     "output_type": "stream",
     "text": [
      "std avg_dist of active users=  4.62 mile\n",
      "std avg_dist of inactive users=  6.24 mile\n"
     ]
    }
   ],
   "source": [
    "print('std avg_dist of active users= ', round(active_avg_dist.std(),2), 'mile')\n",
    "print('std avg_dist of inactive users= ', round(inactive_avg_dist.std(),2), 'mile')"
   ]
  },
  {
   "cell_type": "markdown",
   "metadata": {},
   "source": [
    "### On average active users triped 1.10 mile less than active, with 1.62 mile less standard deviation."
   ]
  },
  {
   "cell_type": "code",
   "execution_count": 27,
   "metadata": {},
   "outputs": [
    {
     "data": {
      "image/png": "[encoded data removed]",
      "text/plain": [
       "<Figure size 720x720 with 2 Axes>"
      ]
     },
     "metadata": {
      "needs_background": "light"
     },
     "output_type": "display_data"
    }
   ],
   "source": [
    "plt.figure(figsize=(10,10))\n",
    "\n",
    "# Generate a mask for the upper triangle\n",
    "mask = np.triu(np.ones_like(df.corr(), dtype=bool))\n",
    "sns.heatmap(df.corr(),square=True, annot=True, mask=mask, cbar_kws={\"shrink\": .7})\n",
    "\n",
    "plt.show()"
   ]
  },
  {
   "cell_type": "markdown",
   "metadata": {},
   "source": [
    "**the pandas profiling showed that avg_surge and surge_pct are highly positively correlated.**"
   ]
  },
  {
   "cell_type": "markdown",
   "metadata": {},
   "source": [
    "## Modeling"
   ]
  },
  {
   "cell_type": "markdown",
   "metadata": {},
   "source": [
    "### Encoding categorical predictors"
   ]
  },
  {
   "cell_type": "code",
   "execution_count": 28,
   "metadata": {},
   "outputs": [
    {
     "data": {
      "text/plain": [
       "Index(['city', 'phone'], dtype='object')"
      ]
     },
     "execution_count": 28,
     "metadata": {},
     "output_type": "execute_result"
    }
   ],
   "source": [
    "categorical_columns = df.select_dtypes(include= ['object'], exclude= ['datetime']).columns\n",
    "categorical_columns"
   ]
  },
  {
   "cell_type": "code",
   "execution_count": 29,
   "metadata": {},
   "outputs": [
    {
     "data": {
      "text/html": [
       "<div>\n",
       "<style scoped>\n",
       "    .dataframe tbody tr th:only-of-type {\n",
       "        vertical-align: middle;\n",
       "    }\n",
       "\n",
       "    .dataframe tbody tr th {\n",
       "        vertical-align: top;\n",
       "    }\n",
       "\n",
       "    .dataframe thead th {\n",
       "        text-align: right;\n",
       "    }\n",
       "</style>\n",
       "<table border=\"1\" class=\"dataframe\">\n",
       "  <thead>\n",
       "    <tr style=\"text-align: right;\">\n",
       "      <th></th>\n",
       "      <th>trips_in_first_30_days</th>\n",
       "      <th>signup_date</th>\n",
       "      <th>avg_rating_of_driver</th>\n",
       "      <th>avg_surge</th>\n",
       "      <th>last_trip_date</th>\n",
       "      <th>surge_pct</th>\n",
       "      <th>ultimate_black_user</th>\n",
       "      <th>weekday_pct</th>\n",
       "      <th>avg_dist</th>\n",
       "      <th>avg_rating_by_driver</th>\n",
       "      <th>active</th>\n",
       "      <th>city_Astapor</th>\n",
       "      <th>city_King's Landing</th>\n",
       "      <th>city_Winterfell</th>\n",
       "      <th>phone_Android</th>\n",
       "      <th>phone_iPhone</th>\n",
       "    </tr>\n",
       "  </thead>\n",
       "  <tbody>\n",
       "    <tr>\n",
       "      <th>0</th>\n",
       "      <td>4</td>\n",
       "      <td>2014-01-25</td>\n",
       "      <td>4.7</td>\n",
       "      <td>1.10</td>\n",
       "      <td>2014-06-17</td>\n",
       "      <td>15.4</td>\n",
       "      <td>True</td>\n",
       "      <td>46.2</td>\n",
       "      <td>3.67</td>\n",
       "      <td>5.0</td>\n",
       "      <td>1</td>\n",
       "      <td>0</td>\n",
       "      <td>1</td>\n",
       "      <td>0</td>\n",
       "      <td>0</td>\n",
       "      <td>1</td>\n",
       "    </tr>\n",
       "    <tr>\n",
       "      <th>1</th>\n",
       "      <td>0</td>\n",
       "      <td>2014-01-29</td>\n",
       "      <td>5.0</td>\n",
       "      <td>1.00</td>\n",
       "      <td>2014-05-05</td>\n",
       "      <td>0.0</td>\n",
       "      <td>False</td>\n",
       "      <td>50.0</td>\n",
       "      <td>8.26</td>\n",
       "      <td>5.0</td>\n",
       "      <td>0</td>\n",
       "      <td>1</td>\n",
       "      <td>0</td>\n",
       "      <td>0</td>\n",
       "      <td>1</td>\n",
       "      <td>0</td>\n",
       "    </tr>\n",
       "    <tr>\n",
       "      <th>2</th>\n",
       "      <td>3</td>\n",
       "      <td>2014-01-06</td>\n",
       "      <td>4.3</td>\n",
       "      <td>1.00</td>\n",
       "      <td>2014-01-07</td>\n",
       "      <td>0.0</td>\n",
       "      <td>False</td>\n",
       "      <td>100.0</td>\n",
       "      <td>0.77</td>\n",
       "      <td>5.0</td>\n",
       "      <td>0</td>\n",
       "      <td>1</td>\n",
       "      <td>0</td>\n",
       "      <td>0</td>\n",
       "      <td>0</td>\n",
       "      <td>1</td>\n",
       "    </tr>\n",
       "    <tr>\n",
       "      <th>3</th>\n",
       "      <td>9</td>\n",
       "      <td>2014-01-10</td>\n",
       "      <td>4.6</td>\n",
       "      <td>1.14</td>\n",
       "      <td>2014-06-29</td>\n",
       "      <td>20.0</td>\n",
       "      <td>True</td>\n",
       "      <td>80.0</td>\n",
       "      <td>2.36</td>\n",
       "      <td>4.9</td>\n",
       "      <td>1</td>\n",
       "      <td>0</td>\n",
       "      <td>1</td>\n",
       "      <td>0</td>\n",
       "      <td>0</td>\n",
       "      <td>1</td>\n",
       "    </tr>\n",
       "    <tr>\n",
       "      <th>4</th>\n",
       "      <td>14</td>\n",
       "      <td>2014-01-27</td>\n",
       "      <td>4.4</td>\n",
       "      <td>1.19</td>\n",
       "      <td>2014-03-15</td>\n",
       "      <td>11.8</td>\n",
       "      <td>False</td>\n",
       "      <td>82.4</td>\n",
       "      <td>3.13</td>\n",
       "      <td>4.9</td>\n",
       "      <td>0</td>\n",
       "      <td>0</td>\n",
       "      <td>0</td>\n",
       "      <td>1</td>\n",
       "      <td>1</td>\n",
       "      <td>0</td>\n",
       "    </tr>\n",
       "  </tbody>\n",
       "</table>\n",
       "</div>"
      ],
      "text/plain": [
       "   trips_in_first_30_days signup_date  avg_rating_of_driver  avg_surge  \\\n",
       "0                       4  2014-01-25                   4.7       1.10   \n",
       "1                       0  2014-01-29                   5.0       1.00   \n",
       "2                       3  2014-01-06                   4.3       1.00   \n",
       "3                       9  2014-01-10                   4.6       1.14   \n",
       "4                      14  2014-01-27                   4.4       1.19   \n",
       "\n",
       "  last_trip_date  surge_pct  ultimate_black_user  weekday_pct  avg_dist  \\\n",
       "0     2014-06-17       15.4                 True         46.2      3.67   \n",
       "1     2014-05-05        0.0                False         50.0      8.26   \n",
       "2     2014-01-07        0.0                False        100.0      0.77   \n",
       "3     2014-06-29       20.0                 True         80.0      2.36   \n",
       "4     2014-03-15       11.8                False         82.4      3.13   \n",
       "\n",
       "   avg_rating_by_driver  active  city_Astapor  city_King's Landing  \\\n",
       "0                   5.0       1             0                    1   \n",
       "1                   5.0       0             1                    0   \n",
       "2                   5.0       0             1                    0   \n",
       "3                   4.9       1             0                    1   \n",
       "4                   4.9       0             0                    0   \n",
       "\n",
       "   city_Winterfell  phone_Android  phone_iPhone  \n",
       "0                0              0             1  \n",
       "1                0              1             0  \n",
       "2                0              0             1  \n",
       "3                0              0             1  \n",
       "4                1              1             0  "
      ]
     },
     "execution_count": 29,
     "metadata": {},
     "output_type": "execute_result"
    }
   ],
   "source": [
    "df = pd.get_dummies(df , categorical_columns)\n",
    "df.head()"
   ]
  },
  {
   "cell_type": "code",
   "execution_count": 30,
   "metadata": {},
   "outputs": [],
   "source": [
    "df = df.drop(['signup_date', 'last_trip_date'], axis= 1)\n",
    "df.columns = ['trips_in_first_30_days', 'avg_rating_of_driver',\n",
    "       'avg_surge', 'surge_pct', 'ultimate_black_user',\n",
    "       'weekday_pct', 'avg_dist', 'avg_rating_by_driver', 'active',\n",
    "       'city_Astapor', 'city_KingsLanding', 'city_Winterfell',\n",
    "       'phone_Android', 'phone_iPhone']"
   ]
  },
  {
   "cell_type": "markdown",
   "metadata": {},
   "source": [
    "### Methods to deal with an  imbalance dataset"
   ]
  },
  {
   "cell_type": "markdown",
   "metadata": {},
   "source": [
    "### Classifier Performance Metrics\n",
    "Active class is underpresented and inactive class is overpresented. If two class size was 50/50 then dataset would be balanced.\n",
    "Training model on an imbalanced data will result into inaccurate performance metrics such as precision, recall, accuracy and f-score. \n",
    "\n",
    "Model performance metrics for each class are:\n",
    "\n",
    "**Precision:** means if I randomly pick an active user, what is the probability of making right prediction about the user?\n",
    "\n",
    "**Recall:** means if a user is predicted as an active user, what is the probability that the user be active in reallity?\n",
    "\n",
    "**F-score:** is an harmonic mean of Precision and Recall, (2×precision×recall / (precision + recall))\n",
    "\n",
    "In this specific problem it is important that the model predicts active customrs for marketing purposes, in other words, a model that **reduces the False Negative** as many as possible. **I am looking for a model that optimizes the recall score.**\n",
    "\n",
    "\n",
    "**ROC:**\n",
    "* **T:** is threshold which difines the decision rule, it ranges from 1 to 0,\n",
    "* **p(active | user1):** probability of a given user (user1) being active,\n",
    "* **if p(active| user1) >= T** then user1 belongs to active class, so each value of T can generate a point (FP,TP), \n",
    "\n",
    "**ROC curve is the curve described by the ensemble of points generated when T varies from 1 to 0.**\n",
    "\n",
    "**AUC:** the Area Under the ROC curve tends towards 1.0 for the best case and towards 0.5 for the worst case.\n",
    "\n",
    "**A good AUC score:** means that the model we are evaluating **does not sacrifice a lot of precision to get a good recall** on the observed class (often the minority class)."
   ]
  },
  {
   "cell_type": "markdown",
   "metadata": {},
   "source": [
    "These methods are often presented as **great ways** to balance the dataset before fitting a classifier on it. In a few words, these methods act on the dataset as follows:\n",
    "\n",
    "* **undersampling:** consists in sampling from the majority class in order to keep only a part of these points\n",
    "* **oversampling:** consists in replicating some points from the minority class in order to increase its cardinality\n",
    "* **Generating synthetic data:** consists in creating new synthetic points from the minority class (see SMOTE method for example) to increase its cardinality\n",
    "\n",
    "https://towardsdatascience.com/handling-imbalanced-datasets-in-machine-learning-7a0e84220f28"
   ]
  },
  {
   "cell_type": "code",
   "execution_count": 31,
   "metadata": {},
   "outputs": [],
   "source": [
    "df_minority = df[df.active == 1]\n",
    "df_majority = df[df.active == 0]"
   ]
  },
  {
   "cell_type": "code",
   "execution_count": 32,
   "metadata": {},
   "outputs": [
    {
     "name": "stdout",
     "output_type": "stream",
     "text": [
      "train_set shape: (37494, 14)\n",
      "test_set shape: (12498, 14)\n"
     ]
    }
   ],
   "source": [
    "split_idx = int(0.75 * len(df))\n",
    "train_set =  df[:split_idx ]\n",
    "test_set = df[split_idx: ]\n",
    "\n",
    "print('train_set shape:', train_set.shape)\n",
    "print('test_set shape:', test_set.shape)"
   ]
  },
  {
   "cell_type": "code",
   "execution_count": 33,
   "metadata": {},
   "outputs": [
    {
     "name": "stdout",
     "output_type": "stream",
     "text": [
      "X_Train_oversampled shape (47494, 13)\n",
      "y_Train_oversampled shape (47494,)\n"
     ]
    }
   ],
   "source": [
    "from sklearn.utils import resample\n",
    "\n",
    "\n",
    "#Resample df of minority class\n",
    "df_minority_resample = resample(df_minority, n_samples = 10000, replace = True, random_state= 42)\n",
    "train_set_oversampled = pd.concat([train_set , df_minority_resample])\n",
    "\n",
    "X_Train_oversampled = train_set_oversampled.drop('active', axis= 1).values\n",
    "y_Train_oversampled = train_set_oversampled['active'].values\n",
    "\n",
    "\n",
    "print('X_Train_oversampled shape', X_Train_oversampled.shape)\n",
    "print('y_Train_oversampled shape', y_Train_oversampled.shape)"
   ]
  },
  {
   "cell_type": "code",
   "execution_count": 34,
   "metadata": {},
   "outputs": [
    {
     "name": "stdout",
     "output_type": "stream",
     "text": [
      "X_Test shape (12498, 13)\n",
      "y_Test shape (12498,)\n"
     ]
    }
   ],
   "source": [
    "X_Test = test_set.drop('active', axis=1).values\n",
    "y_Test = test_set['active'].values\n",
    "\n",
    "print('X_Test shape', X_Test.shape)\n",
    "print('y_Test shape', y_Test.shape)"
   ]
  },
  {
   "cell_type": "code",
   "execution_count": 35,
   "metadata": {},
   "outputs": [
    {
     "data": {
      "image/png": "[encoded data removed]",
      "text/plain": [
       "<Figure size 432x288 with 1 Axes>"
      ]
     },
     "metadata": {
      "needs_background": "light"
     },
     "output_type": "display_data"
    }
   ],
   "source": [
    "active_oversampled = train_set_oversampled['active'].value_counts(normalize= True, dropna= False).round(2)\n",
    "active_oversampled = pd.DataFrame(active_oversampled).reset_index()\n",
    "active_oversampled.columns = ['status','percentage']\n",
    "active_oversampled.status.replace({0: 'Inactive', 1:'Active'},inplace= True)\n",
    "active_oversampled\n",
    "\n",
    "bars = plt.bar(x= active_oversampled.status, height= active_oversampled.percentage)\n",
    "for spine in plt.gca().spines.values():\n",
    "    spine.set_visible (False)\n",
    "\n",
    "plt.tick_params (top='off', bottom='off', left=False , right=False, labelleft=False, labelbottom='on')\n",
    "\n",
    "#direct label each bar with Y axis values\n",
    "for bar in bars:\n",
    "    plt.gca().text( bar.get_x() + bar.get_width()/2 , bar.get_height()-0.16,\n",
    "                   bar.get_height().round(2), ha='center', color='yellow', fontsize=14)\n",
    "    \n",
    "    \n",
    "plt.xticks(fontsize=14)    \n",
    "plt.title('Users Segmentation in Oversampled Train Set',fontsize=14, c='red')\n",
    "plt.show()"
   ]
  },
  {
   "cell_type": "markdown",
   "metadata": {},
   "source": [
    "### Now the oversampled train set is balanced, I can use it for modeling."
   ]
  },
  {
   "cell_type": "markdown",
   "metadata": {},
   "source": [
    "### Individual Model"
   ]
  },
  {
   "cell_type": "code",
   "execution_count": 36,
   "metadata": {},
   "outputs": [],
   "source": [
    "from sklearn.metrics import accuracy_score, precision_score, recall_score, f1_score \n",
    "\n",
    "results = pd.DataFrame(columns= ['model', 'Accuracy', 'Precision', 'Recall', 'F1-score'])"
   ]
  },
  {
   "cell_type": "markdown",
   "metadata": {},
   "source": [
    "* ### Ridge Classifier"
   ]
  },
  {
   "cell_type": "code",
   "execution_count": 37,
   "metadata": {},
   "outputs": [],
   "source": [
    "from sklearn.linear_model import RidgeClassifierCV\n",
    "\n",
    "\n",
    "ridge_clf = RidgeClassifierCV()\n",
    "ridge_clf.fit(X_Train_oversampled , y_Train_oversampled)\n",
    "ridge_pred = ridge_clf.predict(X_Test)\n",
    "\n",
    "\n",
    "results = results.append(pd.Series(['Ridge Classifier']+\n",
    "                                  [round(accuracy_score(y_Test, ridge_pred),2),\n",
    "                                  round(precision_score(y_Test, ridge_pred),2),\n",
    "                                  round(recall_score(y_Test, ridge_pred),2),\n",
    "                                  round(f1_score(y_Test, ridge_pred),2)],\n",
    "                            index= ['model', 'Accuracy', 'Precision', 'Recall', 'F1-score']),\n",
    "                            ignore_index= True)"
   ]
  },
  {
   "cell_type": "markdown",
   "metadata": {},
   "source": [
    "* ### Logistic Regression"
   ]
  },
  {
   "cell_type": "code",
   "execution_count": 38,
   "metadata": {},
   "outputs": [
    {
     "name": "stdout",
     "output_type": "stream",
     "text": [
      "Wall time: 698 ms\n"
     ]
    }
   ],
   "source": [
    "%%time\n",
    "from sklearn.linear_model import LogisticRegression\n",
    "\n",
    "log_reg = LogisticRegression()\n",
    "log_reg.fit(X_Train_oversampled , y_Train_oversampled)\n",
    "log_pred = log_reg.predict(X_Test)\n",
    "\n",
    "\n",
    "results = results.append(pd.Series(['LogisticRegression']+\n",
    "                                  [round(accuracy_score(y_Test, log_pred),2),\n",
    "                                  round(precision_score(y_Test, log_pred),2),\n",
    "                                  round(recall_score(y_Test, log_pred),2),\n",
    "                                  round(f1_score(y_Test, log_pred),2)],\n",
    "                            index= ['model', 'Accuracy', 'Precision', 'Recall', 'F1-score']),\n",
    "                            ignore_index= True)"
   ]
  },
  {
   "cell_type": "markdown",
   "metadata": {},
   "source": [
    "* ### Support Vector Classification"
   ]
  },
  {
   "cell_type": "code",
   "execution_count": 39,
   "metadata": {},
   "outputs": [
    {
     "name": "stdout",
     "output_type": "stream",
     "text": [
      "Wall time: 1min 44s\n"
     ]
    }
   ],
   "source": [
    "%%time\n",
    "from sklearn.pipeline import make_pipeline\n",
    "from sklearn.preprocessing import StandardScaler\n",
    "from sklearn.svm import SVC\n",
    "\n",
    "pipeline = make_pipeline(StandardScaler() , SVC(gamma= 'auto'))\n",
    "pipeline.fit(X_Train_oversampled, y_Train_oversampled)\n",
    "svc_pred = pipeline.predict(X_Test)\n",
    "\n",
    "\n",
    "results = results.append(pd.Series(['SVC']+\n",
    "                                  [round(accuracy_score(y_Test, svc_pred),2),\n",
    "                                  round(precision_score(y_Test, svc_pred),2),\n",
    "                                  round(recall_score(y_Test, svc_pred),2),\n",
    "                                  round(f1_score(y_Test, svc_pred),2)],\n",
    "                            index= ['model', 'Accuracy', 'Precision', 'Recall', 'F1-score']),\n",
    "                            ignore_index= True)"
   ]
  },
  {
   "cell_type": "markdown",
   "metadata": {},
   "source": [
    "### Ensemble Modeling (tree based)\n",
    "Ensemble learning is very powerful for classification and regression problems."
   ]
  },
  {
   "cell_type": "markdown",
   "metadata": {},
   "source": [
    "* ### Adaptive Boost classifier\n",
    "\n",
    "A meta-estimator that begins by fitting a classifier on the original dataset and then fits additional copies of the classifier on the same dataset but where the weights of incorrectly classified instances are adjusted such that subsequent classifiers focus more on difficult cases. https://scikit-learn.org/stable/modules/generated/sklearn.ensemble.AdaBoostClassifier.html"
   ]
  },
  {
   "cell_type": "code",
   "execution_count": 40,
   "metadata": {},
   "outputs": [],
   "source": [
    "from sklearn.ensemble import AdaBoostClassifier\n",
    "\n",
    "adb_clf = AdaBoostClassifier(n_estimators=100)\n",
    "adb_clf.fit(X_Train_oversampled, y_Train_oversampled)\n",
    "adb_pred = adb_clf.predict(X_Test)\n",
    "\n",
    "\n",
    "results = results.append(pd.Series(['Adaptive Boost Classifier']+\n",
    "                                  [round(accuracy_score(y_Test, adb_pred),2),\n",
    "                                  round(precision_score(y_Test, adb_pred),2),\n",
    "                                  round(recall_score(y_Test, adb_pred),2),\n",
    "                                  round(f1_score(y_Test, adb_pred),2)],\n",
    "                            index= ['model', 'Accuracy', 'Precision', 'Recall', 'F1-score']),\n",
    "                            ignore_index= True)"
   ]
  },
  {
   "cell_type": "markdown",
   "metadata": {},
   "source": [
    "* ### Gradient Boosting for classification.\n",
    "\n",
    "GB builds an additive model in a forward stage-wise fashion; it allows for the optimization of arbitrary differentiable loss functions. In each stage n_classes_ regression trees are fit on the negative gradient of the binomial or multinomial deviance loss function. Binary classification is a special case where only a single regression tree is induced.\n",
    "https://scikit-learn.org/stable/modules/generated/sklearn.ensemble.GradientBoostingClassifier.html"
   ]
  },
  {
   "cell_type": "code",
   "execution_count": 41,
   "metadata": {},
   "outputs": [],
   "source": [
    "from sklearn.ensemble import GradientBoostingClassifier\n",
    "\n",
    "gb_clf = GradientBoostingClassifier(n_estimators=100)\n",
    "gb_clf.fit(X_Train_oversampled, y_Train_oversampled)\n",
    "gb_pred = gb_clf.predict(X_Test)\n",
    "\n",
    "\n",
    "results = results.append(pd.Series(['Gradient Boosting Classifier']+\n",
    "                                  [round(accuracy_score(y_Test, gb_pred),2),\n",
    "                                  round(precision_score(y_Test, gb_pred),2),\n",
    "                                  round(recall_score(y_Test, gb_pred),2),\n",
    "                                  round(f1_score(y_Test, gb_pred),2)],\n",
    "                            index= ['model', 'Accuracy', 'Precision', 'Recall', 'F1-score']),\n",
    "                            ignore_index= True)"
   ]
  },
  {
   "cell_type": "markdown",
   "metadata": {},
   "source": [
    "* ### Random Forest Clossifier\n",
    "\n",
    "A meta estimator that fits a number of decision tree classifiers on **various sub-samples** of the dataset and uses averaging to improve the predictive accuracy and control over-fitting. The sub-sample size is controlled with the max_samples parameter if bootstrap=True (default), otherwise the whole dataset is used to build each tree."
   ]
  },
  {
   "cell_type": "code",
   "execution_count": 42,
   "metadata": {},
   "outputs": [],
   "source": [
    "from sklearn.ensemble import RandomForestClassifier\n",
    "\n",
    "\n",
    "\n",
    "rf_clf = RandomForestClassifier(n_estimators=100,  #n_estimators: number of trees\n",
    "                                max_features= 'auto', \n",
    "                                random_state= 42)\n",
    "rf_clf.fit(X_Train_oversampled, y_Train_oversampled)\n",
    "rf_pred = rf_clf.predict(X_Test)\n",
    "\n",
    "\n",
    "results = results.append(pd.Series(['RandomForest Classifier']+\n",
    "                                  [round(accuracy_score(y_Test, rf_pred),2),\n",
    "                                  round(precision_score(y_Test, rf_pred),2),\n",
    "                                  round(recall_score(y_Test, rf_pred),2),\n",
    "                                  round(f1_score(y_Test, rf_pred),2)],\n",
    "                            index= ['model', 'Accuracy', 'Precision', 'Recall', 'F1-score']),\n",
    "                            ignore_index= True)"
   ]
  },
  {
   "cell_type": "code",
   "execution_count": 43,
   "metadata": {},
   "outputs": [
    {
     "data": {
      "text/plain": [
       "{'n_estimators': 300,\n",
       " 'max_features': 'auto',\n",
       " 'max_depth': 20,\n",
       " 'bootstrap': True}"
      ]
     },
     "execution_count": 43,
     "metadata": {},
     "output_type": "execute_result"
    }
   ],
   "source": [
    "from sklearn.model_selection import RandomizedSearchCV\n",
    "\n",
    "# Create the grid space\n",
    "param_grid = {'n_estimators': [100, 200, 300],\n",
    "               'max_features': ['auto', 'sqrt'],       # Number of features to consider at every split\n",
    "               'max_depth': [int(x) for x in np.linspace(10, 140, num = 14)],\n",
    "               'bootstrap': [True, False]             # Method of selecting samples for training each tree\n",
    "             }\n",
    "\n",
    "randomized_rf_clf = RandomizedSearchCV(rf_clf, param_grid, cv=4)\n",
    "randomized_rf_clf.fit(X_Train_oversampled, y_Train_oversampled)\n",
    "randomized_rf_clf.best_params_"
   ]
  },
  {
   "cell_type": "code",
   "execution_count": 44,
   "metadata": {},
   "outputs": [],
   "source": [
    "best_rf_clf = RandomForestClassifier(n_estimators= 300, max_features= 'auto', max_depth= 20, bootstrap= True)\n",
    "\n",
    "best_rf_clf.fit(X_Train_oversampled, y_Train_oversampled)\n",
    "best_rf_clf_pred = best_rf_clf.predict(X_Test)\n",
    "\n",
    "\n",
    "results = results.append(pd.Series(['Best RandomForest Classifier']+\n",
    "                                  [round(accuracy_score(y_Test, best_rf_clf_pred),2),\n",
    "                                  round(precision_score(y_Test, best_rf_clf_pred),2),\n",
    "                                  round(recall_score(y_Test, best_rf_clf_pred),2),\n",
    "                                  round(f1_score(y_Test, best_rf_clf_pred),2)],\n",
    "                            index= ['model', 'Accuracy', 'Precision', 'Recall', 'F1-score']),\n",
    "                            ignore_index= True)"
   ]
  },
  {
   "cell_type": "code",
   "execution_count": 45,
   "metadata": {},
   "outputs": [
    {
     "data": {
      "text/html": [
       "<div>\n",
       "<style scoped>\n",
       "    .dataframe tbody tr th:only-of-type {\n",
       "        vertical-align: middle;\n",
       "    }\n",
       "\n",
       "    .dataframe tbody tr th {\n",
       "        vertical-align: top;\n",
       "    }\n",
       "\n",
       "    .dataframe thead th {\n",
       "        text-align: right;\n",
       "    }\n",
       "</style>\n",
       "<table border=\"1\" class=\"dataframe\">\n",
       "  <thead>\n",
       "    <tr style=\"text-align: right;\">\n",
       "      <th></th>\n",
       "      <th>model</th>\n",
       "      <th>Accuracy</th>\n",
       "      <th>Precision</th>\n",
       "      <th>Recall</th>\n",
       "      <th>F1-score</th>\n",
       "    </tr>\n",
       "  </thead>\n",
       "  <tbody>\n",
       "    <tr>\n",
       "      <th>0</th>\n",
       "      <td>Ridge Classifier</td>\n",
       "      <td>0.70</td>\n",
       "      <td>0.58</td>\n",
       "      <td>0.69</td>\n",
       "      <td>0.63</td>\n",
       "    </tr>\n",
       "    <tr>\n",
       "      <th>1</th>\n",
       "      <td>LogisticRegression</td>\n",
       "      <td>0.70</td>\n",
       "      <td>0.59</td>\n",
       "      <td>0.69</td>\n",
       "      <td>0.63</td>\n",
       "    </tr>\n",
       "    <tr>\n",
       "      <th>2</th>\n",
       "      <td>SVC</td>\n",
       "      <td>0.75</td>\n",
       "      <td>0.64</td>\n",
       "      <td>0.77</td>\n",
       "      <td>0.70</td>\n",
       "    </tr>\n",
       "    <tr>\n",
       "      <th>3</th>\n",
       "      <td>Adaptive Boost Classifier</td>\n",
       "      <td>0.78</td>\n",
       "      <td>0.67</td>\n",
       "      <td>0.78</td>\n",
       "      <td>0.72</td>\n",
       "    </tr>\n",
       "    <tr>\n",
       "      <th>4</th>\n",
       "      <td>Gradient Boosting Classifier</td>\n",
       "      <td>0.78</td>\n",
       "      <td>0.68</td>\n",
       "      <td>0.78</td>\n",
       "      <td>0.72</td>\n",
       "    </tr>\n",
       "    <tr>\n",
       "      <th>5</th>\n",
       "      <td>RandomForest Classifier</td>\n",
       "      <td>0.79</td>\n",
       "      <td>0.68</td>\n",
       "      <td>0.83</td>\n",
       "      <td>0.75</td>\n",
       "    </tr>\n",
       "    <tr>\n",
       "      <th>6</th>\n",
       "      <td>Best RandomForest Classifier</td>\n",
       "      <td>0.79</td>\n",
       "      <td>0.68</td>\n",
       "      <td>0.84</td>\n",
       "      <td>0.75</td>\n",
       "    </tr>\n",
       "  </tbody>\n",
       "</table>\n",
       "</div>"
      ],
      "text/plain": [
       "                          model  Accuracy  Precision  Recall  F1-score\n",
       "0              Ridge Classifier      0.70       0.58    0.69      0.63\n",
       "1            LogisticRegression      0.70       0.59    0.69      0.63\n",
       "2                           SVC      0.75       0.64    0.77      0.70\n",
       "3     Adaptive Boost Classifier      0.78       0.67    0.78      0.72\n",
       "4  Gradient Boosting Classifier      0.78       0.68    0.78      0.72\n",
       "5       RandomForest Classifier      0.79       0.68    0.83      0.75\n",
       "6  Best RandomForest Classifier      0.79       0.68    0.84      0.75"
      ]
     },
     "execution_count": 45,
     "metadata": {},
     "output_type": "execute_result"
    }
   ],
   "source": [
    "results"
   ]
  },
  {
   "cell_type": "code",
   "execution_count": 47,
   "metadata": {},
   "outputs": [
    {
     "data": {
      "image/png": "[encoded data removed]",
      "text/plain": [
       "<Figure size 720x720 with 1 Axes>"
      ]
     },
     "metadata": {
      "needs_background": "light"
     },
     "output_type": "display_data"
    }
   ],
   "source": [
    "from sklearn.metrics import roc_curve, plot_roc_curve\n",
    "\n",
    "\n",
    "\n",
    "fpr_ridge, tpr_ridge, thresholds_ridge = roc_curve(y_Test, ridge_pred)\n",
    "fpr_log, tpr_log, thresholds_log = roc_curve(y_Test, log_pred)\n",
    "fpr_svc, tpr_svc, thresholds_svc = roc_curve(y_Test, svc_pred)\n",
    "fpr_adb, tpr_adb, thresholds_adb = roc_curve(y_Test, adb_pred)\n",
    "fpr_rgb, tpr_gb, thresholds_gb = roc_curve(y_Test, gb_pred)\n",
    "fpr_best_rf, tpr_best_rf, thresholds_best_rf = roc_curve(y_Test, best_rf_clf_pred)\n",
    "\n",
    "\n",
    "plt.figure(figsize= (10,10))\n",
    "plt.plot([0,1], [0,1], 'r--' , )\n",
    "plt.plot(fpr_ridge, tpr_ridge, label='Ridge Classifier')\n",
    "plt.plot(fpr_log, tpr_log, label='Logistic Regression')\n",
    "plt.plot(fpr_svc, tpr_svc, label='SVC')\n",
    "plt.plot(fpr_adb, tpr_adb, label='Adaptive Boost Classifier')\n",
    "plt.plot(fpr_rgb, tpr_gb, label='Gradient Boosting Classifier')\n",
    "plt.plot(fpr_best_rf, tpr_best_rf, label='Random Forest Classifier')\n",
    "\n",
    "plt.xlabel('False Positive Rate', fontsize=14)\n",
    "plt.ylabel('True Positive Rate', fontsize=14)\n",
    "plt.title('ROC Curve', fontsize=18)\n",
    "plt.grid(True)\n",
    "plt.legend(fontsize=13)\n",
    "plt.show()"
   ]
  },
  {
   "cell_type": "markdown",
   "metadata": {},
   "source": [
    "### Plot feature importance"
   ]
  },
  {
   "cell_type": "code",
   "execution_count": 50,
   "metadata": {},
   "outputs": [
    {
     "name": "stdout",
     "output_type": "stream",
     "text": [
      "13\n"
     ]
    },
    {
     "data": {
      "image/png": "[encoded data removed]",
      "text/plain": [
       "<Figure size 720x720 with 1 Axes>"
      ]
     },
     "metadata": {
      "needs_background": "light"
     },
     "output_type": "display_data"
    }
   ],
   "source": [
    "feature_importance = best_rf_clf.feature_importances_\n",
    "# make importances relative to max importance\n",
    "feature_importance = 100.0 * (feature_importance / feature_importance.max())\n",
    "sorted_idx = np.argsort(feature_importance)\n",
    "\n",
    "pos = np.arange(sorted_idx.shape[0]) + .5\n",
    "print(pos.size)\n",
    "sorted_idx.size\n",
    "plt.figure(figsize=(10,10))\n",
    "plt.barh(pos, feature_importance[sorted_idx], align='center')\n",
    "plt.yticks(pos, train_set_oversampled.drop('active', axis= 1).columns[sorted_idx])\n",
    "plt.xlabel('Relative Importance', fontsize= 14)\n",
    "plt.title('Feature Importance', fontsize= 18,c='red')\n",
    "plt.show()"
   ]
  },
  {
   "cell_type": "markdown",
   "metadata": {},
   "source": [
    "**Top three important features to make prediction are:**\n",
    "* 'avg_dist', \n",
    "* 'weekday_pct' \n",
    "* 'avg_rating_by_driver'\n",
    "\n",
    "In exploration step, I found majority of active users tripped over the weekday and they have about 1.1 mile shorter trip than inactive users. These two features were explicitly different between active and inactive users\n",
    "\n",
    "**Two recommendation to increase retention rate:**\n",
    "* Offer some promotions for weekday trips to inactive users who were used to trip only on weekend, and also different promotion for weekend trips to inactive users who used to take ride in weekday. These promotions encourage them to increase their trips over time and don't stick to their regular trips.\n",
    "\n",
    "* Offer promotion for non-rush hours trips between cities, gradually drivers generate more revenue and will tend to serve other cities.\n",
    "\n"
   ]
  }
 ],
 "metadata": {
  "kernelspec": {
   "display_name": "Python 3",
   "language": "python",
   "name": "python3"
  },
  "language_info": {
   "codemirror_mode": {
    "name": "ipython",
    "version": 3
   },
   "file_extension": ".py",
   "mimetype": "text/x-python",
   "name": "python",
   "nbconvert_exporter": "python",
   "pygments_lexer": "ipython3",
   "version": "3.8.3"
  }
 },
 "nbformat": 4,
 "nbformat_minor": 4
}
